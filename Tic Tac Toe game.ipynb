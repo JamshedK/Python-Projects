{
 "cells": [
  {
   "cell_type": "markdown",
   "metadata": {},
   "source": [
    "## Plan"
   ]
  },
  {
   "cell_type": "markdown",
   "metadata": {},
   "source": [
    "**This is the outline of the solution**\n",
    "1. Display the board\n",
    "2. Get Player 1's position\n",
    "3. Print the list and get the first players input\n",
    "4. Get the second players input \n",
    "5. Check if any of the players has won\n",
    "    1. If any of the players has won, print \"Congrats\" - this could be a separete method \n",
    "\n"
   ]
  },
  {
   "cell_type": "code",
   "execution_count": 1,
   "metadata": {},
   "outputs": [],
   "source": [
    "board = [num for num in range(1, 10)]"
   ]
  },
  {
   "cell_type": "code",
   "execution_count": 2,
   "metadata": {},
   "outputs": [],
   "source": [
    "def print_board(board):\n",
    "    index = 0\n",
    "    while index < 9:\n",
    "        print(\" {} | {} | {} \".format(board[index], board[index + 1], board[index + 2]))\n",
    "        index += 3"
   ]
  },
  {
   "cell_type": "code",
   "execution_count": 3,
   "metadata": {},
   "outputs": [
    {
     "name": "stdout",
     "output_type": "stream",
     "text": [
      " 1 | 2 | 3 \n",
      " 4 | 5 | 6 \n",
      " 7 | 8 | 9 \n"
     ]
    }
   ],
   "source": [
    "print_board(board)"
   ]
  },
  {
   "cell_type": "code",
   "execution_count": 4,
   "metadata": {},
   "outputs": [],
   "source": [
    "# SELECT PLAYERS CHOICES\n",
    "def select_mark():\n",
    "    acceptable_values = ['X', 'O']\n",
    "    value = \"WRONG\"\n",
    "    while value not in acceptable_values: \n",
    "        value = input(\"Player one choose 'X' or 'O': \") # get the user input\n",
    "        if value in acceptable_values:\n",
    "            if value == 'X':\n",
    "                print('Player 1 will go first')\n",
    "                return value\n",
    "            else:\n",
    "                print('Player 2 will go first')\n",
    "                return value"
   ]
  },
  {
   "cell_type": "code",
   "execution_count": null,
   "metadata": {},
   "outputs": [],
   "source": []
  },
  {
   "cell_type": "code",
   "execution_count": 5,
   "metadata": {},
   "outputs": [],
   "source": [
    "def player_input(player1_turn):\n",
    "    acceptable_range = range(1, 10)\n",
    "    input_value = 'WRONG'\n",
    "\n",
    "    while input_value not in acceptable_range:\n",
    "        if player1_turn == True:\n",
    "            input_value = input('Player 1 input your position: ')\n",
    "            input_value = int(input_value)\n",
    "            clear_output()\n",
    "        elif player1_turn == False:\n",
    "            input_value = input('Player 2 input your position: ')\n",
    "            input_value = int(input_value)\n",
    "            clear_output()\n",
    "\n",
    "        if int(input_value) not in acceptable_range:\n",
    "            print(\"Sorry our of range\")\n",
    "    return input_value"
   ]
  },
  {
   "cell_type": "code",
   "execution_count": null,
   "metadata": {},
   "outputs": [],
   "source": []
  },
  {
   "cell_type": "code",
   "execution_count": 6,
   "metadata": {},
   "outputs": [],
   "source": [
    "def replace_board(board, position, value):\n",
    "    board[position] = value\n",
    "    return board"
   ]
  },
  {
   "cell_type": "code",
   "execution_count": 9,
   "metadata": {},
   "outputs": [],
   "source": [
    "# CHECK IF GAME IS WON\n",
    "def win_check(board, mark):\n",
    "    player = ''\n",
    "    if mark == 'X':\n",
    "        player = 'Player 1'\n",
    "    else:\n",
    "        player = 'Player 2'\n",
    "    if board[0] == mark and board[1] == mark and board[2] == mark:\n",
    "        print(f'Congrats!! {player} You have won')\n",
    "        return True\n",
    "    elif board[3] == mark and board[4] == mark and board[5] == mark:\n",
    "        print(f'Congrats!! {player} You have won')\n",
    "        return True\n",
    "    if board[6] == mark and board[7] == mark and board[8] == mark:\n",
    "        print(f'Congrats!! {player} You have won')\n",
    "        return True\n",
    "    elif board[0] == mark and board[4] == mark and board[8] == mark:\n",
    "        print(f'Congrats!! {player} You have won')\n",
    "        return True    \n",
    "    elif board[2] == mark and board[4] == mark and board[6] == mark:\n",
    "        print(f'Congrats!! {player} You have won')\n",
    "        return True     \n",
    "    else:\n",
    "        return False"
   ]
  },
  {
   "cell_type": "code",
   "execution_count": null,
   "metadata": {},
   "outputs": [
    {
     "name": "stdout",
     "output_type": "stream",
     "text": [
      " X |   |   \n",
      "   |   |   \n",
      "   |   |   \n"
     ]
    }
   ],
   "source": [
    "from IPython.display import clear_output\n",
    "board = [\" \" for num in range(1, 10)]\n",
    "game_won = False\n",
    "player1_turn = True\n",
    "    \n",
    "mark = select_mark()\n",
    "if mark == 'X':\n",
    "    player1_turn = True\n",
    "elif mark == 'O':\n",
    "    player1_turn = False\n",
    "    \n",
    "print_board(board)\n",
    "\n",
    "while game_won == False:\n",
    "    mark = 'NOTHING'\n",
    "    position = player_input(player1_turn) - 1\n",
    "    if player1_turn == True:\n",
    "        mark = 'X'\n",
    "    elif player1_turn == False:\n",
    "        mark = 'O'\n",
    "    replace_board(board, position, mark)\n",
    "    player1_turn = not player1_turn\n",
    "    print_board(board)\n",
    "    \n",
    "    game_won = win_check(board, mark)"
   ]
  },
  {
   "cell_type": "code",
   "execution_count": 2,
   "metadata": {},
   "outputs": [],
   "source": [
    "# CHECK IF THE CELL IS EMPTY:\n",
    "def check_empty(board, position):\n",
    "    if board[position] == ' ':\n",
    "        return True\n",
    "    else:\n",
    "        print('Sorry, position is already full')\n",
    "        return False"
   ]
  },
  {
   "cell_type": "code",
   "execution_count": 4,
   "metadata": {},
   "outputs": [
    {
     "name": "stdout",
     "output_type": "stream",
     "text": [
      "Sorry, position is already full\n"
     ]
    },
    {
     "data": {
      "text/plain": [
       "False"
      ]
     },
     "execution_count": 4,
     "metadata": {},
     "output_type": "execute_result"
    }
   ],
   "source": [
    "test_board = [' ','X','O','X','O','X','O','X','O','X']\n",
    "\n",
    "check_empty(test_board, 1)"
   ]
  }
 ],
 "metadata": {
  "kernelspec": {
   "display_name": "Python 3",
   "language": "python",
   "name": "python3"
  },
  "language_info": {
   "codemirror_mode": {
    "name": "ipython",
    "version": 3
   },
   "file_extension": ".py",
   "mimetype": "text/x-python",
   "name": "python",
   "nbconvert_exporter": "python",
   "pygments_lexer": "ipython3",
   "version": "3.8.5"
  }
 },
 "nbformat": 4,
 "nbformat_minor": 4
}
